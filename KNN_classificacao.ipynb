{
 "cells": [
  {
   "cell_type": "markdown",
   "id": "8c82b4a2",
   "metadata": {},
   "source": [
    "# Implementação KNN"
   ]
  },
  {
   "cell_type": "code",
   "execution_count": 116,
   "id": "6ed0fa09",
   "metadata": {
    "ExecuteTime": {
     "end_time": "2023-03-23T16:35:53.373318Z",
     "start_time": "2023-03-23T16:35:53.368162Z"
    }
   },
   "outputs": [],
   "source": [
    "# Importe as bibliotecas necessárias\n",
    "import numpy as np\n",
    "import matplotlib.pyplot as plt \n",
    "from collections import Counter\n",
    "from sklearn.metrics import classification_report"
   ]
  },
  {
   "cell_type": "code",
   "execution_count": 112,
   "id": "16fdb466",
   "metadata": {
    "ExecuteTime": {
     "end_time": "2023-03-23T16:34:15.720417Z",
     "start_time": "2023-03-23T16:34:15.714476Z"
    }
   },
   "outputs": [],
   "source": [
    "# Função KNN:\n",
    "def KNN(x, X_train, y, k=3):\n",
    "    distances = np.linalg.norm(x-X_train, axis=1)\n",
    "    partitioned_indices = np.argpartition(distances, k)[:k]\n",
    "    classes = y[partitioned_indices]\n",
    "    return Counter(classes).most_common(1)[0][0]"
   ]
  },
  {
   "cell_type": "markdown",
   "id": "48b67c87",
   "metadata": {
    "heading_collapsed": true
   },
   "source": [
    "## Exemplo de aplicação: "
   ]
  },
  {
   "cell_type": "code",
   "execution_count": 114,
   "id": "9cf1f36d",
   "metadata": {
    "ExecuteTime": {
     "end_time": "2023-03-23T16:34:50.180311Z",
     "start_time": "2023-03-23T16:34:50.175383Z"
    },
    "hidden": true
   },
   "outputs": [],
   "source": [
    "X_train = np.random.randn(1000,3)\n",
    "y = np.random.choice(['Red', 'Blue'], size=1000)\n",
    "\n",
    "X_test = np.random.randn(1000,3)"
   ]
  },
  {
   "cell_type": "code",
   "execution_count": 120,
   "id": "4d8771c8",
   "metadata": {
    "ExecuteTime": {
     "end_time": "2023-03-23T16:38:54.309413Z",
     "start_time": "2023-03-23T16:38:54.216522Z"
    },
    "hidden": true,
    "scrolled": false
   },
   "outputs": [],
   "source": [
    "y_pred = []\n",
    "for predict in X_test:\n",
    "    y_pred.append(KNN(predict, X, y, k=5))"
   ]
  },
  {
   "cell_type": "code",
   "execution_count": 119,
   "id": "b6c16ecb",
   "metadata": {
    "ExecuteTime": {
     "end_time": "2023-03-23T16:37:12.223423Z",
     "start_time": "2023-03-23T16:37:12.201666Z"
    },
    "hidden": true,
    "scrolled": true
   },
   "outputs": [
    {
     "name": "stdout",
     "output_type": "stream",
     "text": [
      "              precision    recall  f1-score   support\n",
      "\n",
      "        Blue       0.48      0.46      0.47       485\n",
      "         Red       0.51      0.53      0.52       515\n",
      "\n",
      "    accuracy                           0.49      1000\n",
      "   macro avg       0.49      0.49      0.49      1000\n",
      "weighted avg       0.49      0.49      0.49      1000\n",
      "\n"
     ]
    }
   ],
   "source": [
    "print(classification_report(y,y_pred))"
   ]
  }
 ],
 "metadata": {
  "kernelspec": {
   "display_name": "Python 3 (ipykernel)",
   "language": "python",
   "name": "python3"
  },
  "language_info": {
   "codemirror_mode": {
    "name": "ipython",
    "version": 3
   },
   "file_extension": ".py",
   "mimetype": "text/x-python",
   "name": "python",
   "nbconvert_exporter": "python",
   "pygments_lexer": "ipython3",
   "version": "3.9.7"
  }
 },
 "nbformat": 4,
 "nbformat_minor": 5
}
