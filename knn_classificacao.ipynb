{
 "cells": [
  {
   "cell_type": "markdown",
   "id": "8c82b4a2",
   "metadata": {},
   "source": [
    "# Implementação KNN"
   ]
  },
  {
   "cell_type": "code",
   "execution_count": 1,
   "id": "6ed0fa09",
   "metadata": {
    "ExecuteTime": {
     "end_time": "2023-04-04T18:50:55.677614Z",
     "start_time": "2023-04-04T18:50:51.618767Z"
    }
   },
   "outputs": [],
   "source": [
    "# Importe as bibliotecas necessárias\n",
    "import numpy as np\n",
    "import matplotlib.pyplot as plt \n",
    "from collections import Counter\n",
    "from sklearn.metrics import classification_report"
   ]
  },
  {
   "cell_type": "code",
   "execution_count": 2,
   "id": "16fdb466",
   "metadata": {
    "ExecuteTime": {
     "end_time": "2023-04-04T18:50:57.508640Z",
     "start_time": "2023-04-04T18:50:57.503809Z"
    }
   },
   "outputs": [],
   "source": [
    "# Função KNN:\n",
    "def KNN(x, X_train, y, k=3):\n",
    "    distances = np.linalg.norm(x-X_train, axis=1) # distancia euclidiana\n",
    "    partitioned_indices = np.argpartition(distances, k)[:k] \n",
    "    classes = y[partitioned_indices]\n",
    "    return Counter(classes).most_common(1)[0][0]"
   ]
  },
  {
   "cell_type": "markdown",
   "id": "48b67c87",
   "metadata": {},
   "source": [
    "## Exemplo de aplicação: "
   ]
  },
  {
   "cell_type": "code",
   "execution_count": 5,
   "id": "9cf1f36d",
   "metadata": {
    "ExecuteTime": {
     "end_time": "2023-04-04T18:51:07.756818Z",
     "start_time": "2023-04-04T18:51:07.751909Z"
    }
   },
   "outputs": [],
   "source": [
    "X_train = np.random.randn(1000,3)\n",
    "y = np.random.choice(['Red', 'Blue'], size=1000)\n",
    "\n",
    "X_test = np.random.randn(1000,3)"
   ]
  },
  {
   "cell_type": "code",
   "execution_count": 7,
   "id": "4d8771c8",
   "metadata": {
    "ExecuteTime": {
     "end_time": "2023-04-04T18:51:27.923474Z",
     "start_time": "2023-04-04T18:51:27.822656Z"
    },
    "scrolled": false
   },
   "outputs": [],
   "source": [
    "y_pred = []\n",
    "for predict in X_test:\n",
    "    y_pred.append(KNN(predict, X_train, y, k=5))"
   ]
  },
  {
   "cell_type": "code",
   "execution_count": 8,
   "id": "b6c16ecb",
   "metadata": {
    "ExecuteTime": {
     "end_time": "2023-04-04T18:51:30.793788Z",
     "start_time": "2023-04-04T18:51:30.726840Z"
    },
    "scrolled": true
   },
   "outputs": [
    {
     "name": "stdout",
     "output_type": "stream",
     "text": [
      "              precision    recall  f1-score   support\n",
      "\n",
      "        Blue       0.51      0.48      0.49       497\n",
      "         Red       0.51      0.53      0.52       503\n",
      "\n",
      "    accuracy                           0.51      1000\n",
      "   macro avg       0.51      0.51      0.51      1000\n",
      "weighted avg       0.51      0.51      0.51      1000\n",
      "\n"
     ]
    }
   ],
   "source": [
    "print(classification_report(y,y_pred))"
   ]
  }
 ],
 "metadata": {
  "kernelspec": {
   "display_name": "Python 3 (ipykernel)",
   "language": "python",
   "name": "python3"
  },
  "language_info": {
   "codemirror_mode": {
    "name": "ipython",
    "version": 3
   },
   "file_extension": ".py",
   "mimetype": "text/x-python",
   "name": "python",
   "nbconvert_exporter": "python",
   "pygments_lexer": "ipython3",
   "version": "3.9.7"
  }
 },
 "nbformat": 4,
 "nbformat_minor": 5
}
