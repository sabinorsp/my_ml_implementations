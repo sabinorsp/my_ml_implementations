{
 "cells": [
  {
   "cell_type": "markdown",
   "id": "ac651a84",
   "metadata": {},
   "source": [
    "# Implementação do Gradiente Descendente "
   ]
  },
  {
   "cell_type": "code",
   "execution_count": 1,
   "id": "9219e256",
   "metadata": {
    "ExecuteTime": {
     "end_time": "2023-03-31T11:44:12.183271Z",
     "start_time": "2023-03-31T11:44:11.647933Z"
    }
   },
   "outputs": [],
   "source": [
    "import numpy as np\n",
    "import matplotlib.pyplot as plt"
   ]
  },
  {
   "cell_type": "code",
   "execution_count": 2,
   "id": "99344c61",
   "metadata": {
    "ExecuteTime": {
     "end_time": "2023-03-31T11:44:12.190633Z",
     "start_time": "2023-03-31T11:44:12.186325Z"
    }
   },
   "outputs": [],
   "source": [
    "# Criando dados para teste\n",
    "X = 2 * np.random.rand(100, 1)\n",
    "y = 10 + 50.2 * X + np.random.randn(100, 1)"
   ]
  },
  {
   "cell_type": "code",
   "execution_count": 3,
   "id": "279ae884",
   "metadata": {
    "ExecuteTime": {
     "end_time": "2023-03-31T11:44:12.837747Z",
     "start_time": "2023-03-31T11:44:12.192167Z"
    },
    "scrolled": true
   },
   "outputs": [
    {
     "data": {
      "image/png": "[encoded data removed]",
      "text/plain": [
       "<Figure size 432x288 with 1 Axes>"
      ]
     },
     "metadata": {
      "needs_background": "light"
     },
     "output_type": "display_data"
    }
   ],
   "source": [
    "plt.scatter(X,y)\n",
    "plt.grid()"
   ]
  },
  {
   "cell_type": "code",
   "execution_count": 4,
   "id": "cc207c0e",
   "metadata": {
    "ExecuteTime": {
     "end_time": "2023-03-31T11:44:12.888372Z",
     "start_time": "2023-03-31T11:44:12.840013Z"
    }
   },
   "outputs": [
    {
     "data": {
      "image/png": "[encoded data removed]",
      "text/plain": [
       "<PIL.PngImagePlugin.PngImageFile image mode=RGBA size=586x254 at 0x7FEA50379A30>"
      ]
     },
     "metadata": {},
     "output_type": "display_data"
    }
   ],
   "source": [
    "from IPython.display import display\n",
    "from PIL import Image\n",
    "img = Image.open('vetor_gradiente.png')\n",
    "display(img)"
   ]
  },
  {
   "cell_type": "markdown",
   "id": "f125c450",
   "metadata": {
    "ExecuteTime": {
     "end_time": "2023-03-27T18:53:33.595836Z",
     "start_time": "2023-03-27T18:53:33.591028Z"
    }
   },
   "source": [
    "## GD em batch"
   ]
  },
  {
   "cell_type": "code",
   "execution_count": 5,
   "id": "98962eff",
   "metadata": {
    "ExecuteTime": {
     "end_time": "2023-03-31T11:44:12.957176Z",
     "start_time": "2023-03-31T11:44:12.889983Z"
    },
    "scrolled": true
   },
   "outputs": [
    {
     "name": "stdout",
     "output_type": "stream",
     "text": [
      "[[10.02676477]\n",
      " [50.07083921]]\n"
     ]
    }
   ],
   "source": [
    "m = len(y) # nº de registros\n",
    "eta = 0.1 # taxa de aprendizado\n",
    "n_iterations = 1000 # quantidade de iteração do GD\n",
    "X_b = np.c_[np.ones((100,1)),X] # Adiciona a variável constante da equação \"theta0\"\n",
    "theta = np.random.randn(2,1) # valor inicial aleatório para os coeficientes\n",
    "\n",
    "\n",
    "for iteration in range(n_iterations):\n",
    "    # Gradiente da função erro\n",
    "    gradient = 2/m * X_b.T.dot(X_b.dot(theta) - y)\n",
    "    \n",
    "    # Atualização dos Pesos\n",
    "    theta = theta - eta*gradient\n",
    "    \n",
    "print(theta)"
   ]
  },
  {
   "cell_type": "markdown",
   "id": "1fd53798",
   "metadata": {},
   "source": [
    "## GD Mini-Batch - ( mini lotes)\n",
    "\n",
    "o GD em Minilotes utiliza pequenos conjuntos aleatórios de dados chamados minilotes para obter os gradientes. Como resultado, o GD em Minilotes é mais regular do que o GD Estocástico, ficando mais próximo do mínimo."
   ]
  },
  {
   "cell_type": "code",
   "execution_count": 6,
   "id": "8f6218fa",
   "metadata": {
    "ExecuteTime": {
     "end_time": "2023-03-31T11:44:13.067907Z",
     "start_time": "2023-03-31T11:44:12.958683Z"
    }
   },
   "outputs": [
    {
     "name": "stdout",
     "output_type": "stream",
     "text": [
      "[[ 9.88278391]\n",
      " [49.91893639]]\n"
     ]
    }
   ],
   "source": [
    "n_iterations = 50\n",
    "minibatch_size = 20 # tamanho dos minilotes\n",
    "\n",
    "theta = np.random.randn(2, 1) #inicialização aleatória dos coeficientes\n",
    "t0, t1 = 200, 1000\n",
    "\n",
    "def learning_schedule(t): #cronograma de aprendizado\n",
    "    return t0/(t+t1)\n",
    "\n",
    "t = 0\n",
    "\n",
    "for iteration in range(n_iterations):\n",
    "    shuffled_ind = np.random.permutation(m)\n",
    "    X_b_shuffled = X_b[shuffled_ind]\n",
    "    y_shuffled = y[shuffled_ind]\n",
    "    for i in range(0, m, minibatch_size):\n",
    "        t += 1\n",
    "        xi = X_b_shuffled[i:i+minibatch_size]\n",
    "        yi = y_shuffled[i:i+minibatch_size]\n",
    "        gradients = 2/minibatch_size * xi.T.dot(xi.dot(theta) - yi)\n",
    "        eta = learning_schedule(t)\n",
    "        theta = theta - eta * gradients\n",
    "\n",
    "print(theta)"
   ]
  },
  {
   "cell_type": "markdown",
   "id": "2939e8ba",
   "metadata": {},
   "source": [
    "## GD Estocastico "
   ]
  },
  {
   "cell_type": "code",
   "execution_count": 7,
   "id": "5e31f8f3",
   "metadata": {
    "ExecuteTime": {
     "end_time": "2023-03-31T11:44:13.311708Z",
     "start_time": "2023-03-31T11:44:13.069756Z"
    }
   },
   "outputs": [
    {
     "name": "stdout",
     "output_type": "stream",
     "text": [
      "[[ 9.95896925]\n",
      " [50.06912228]]\n"
     ]
    }
   ],
   "source": [
    "n_iter = 50\n",
    "t0, t1 = 5, 50 #hiperparâmetros de aprendizado\n",
    "\n",
    "def learning_schedule(t): #cronograma de aprendizado\n",
    "    return t0/(t+t1)\n",
    "\n",
    "theta = np.random.randn(2,1) #inicialização aleatória\n",
    "\n",
    "for ite in range(n_iter):\n",
    "    for i in range(m):\n",
    "        random_index = np.random.randint(m) #obtém instância aleatória\n",
    "        xi = X_b[random_index:random_index+1]\n",
    "        yi = y[random_index:random_index+1]\n",
    "        gradients = 2 * xi.T.dot(xi.dot(theta) - yi)\n",
    "        eta = learning_schedule(ite * m + i)\n",
    "        theta = theta - eta * gradients\n",
    "        \n",
    "print(theta)"
   ]
  },
  {
   "cell_type": "markdown",
   "id": "26e09e24",
   "metadata": {},
   "source": [
    "## GD em batch com uma early stopping para a regressão softmax "
   ]
  },
  {
   "cell_type": "markdown",
   "id": "b7e183ad",
   "metadata": {},
   "source": [
    "https://github.com/ageron/handson-ml2/blob/master/04_training_linear_models.ipynb"
   ]
  },
  {
   "cell_type": "code",
   "execution_count": 33,
   "id": "1f25f5cd",
   "metadata": {
    "ExecuteTime": {
     "end_time": "2023-03-31T11:56:39.506465Z",
     "start_time": "2023-03-31T11:56:39.499925Z"
    }
   },
   "outputs": [],
   "source": [
    "# Importanto dataset para exemplo\n",
    "from sklearn import datasets\n",
    "\n",
    "iris = datasets.load_iris()\n",
    "X = iris['data'][:, 3:] # largura da petala\n",
    "y = (iris['target'] == 2).astype('int')"
   ]
  },
  {
   "cell_type": "code",
   "execution_count": 9,
   "id": "3bd33b9b",
   "metadata": {
    "ExecuteTime": {
     "end_time": "2023-03-31T11:44:13.750642Z",
     "start_time": "2023-03-31T11:44:13.746767Z"
    }
   },
   "outputs": [
    {
     "name": "stdout",
     "output_type": "stream",
     "text": [
      "(150, 1)\n",
      "(150,)\n"
     ]
    }
   ],
   "source": [
    "print(X.shape)\n",
    "print(y.shape)"
   ]
  },
  {
   "cell_type": "code",
   "execution_count": 23,
   "id": "c0c62680",
   "metadata": {
    "ExecuteTime": {
     "end_time": "2023-03-31T11:52:40.191898Z",
     "start_time": "2023-03-31T11:52:40.186266Z"
    },
    "scrolled": true
   },
   "outputs": [],
   "source": [
    "import math\n",
    "\n",
    "# Função logistica\n",
    "def logistic_function(x):\n",
    "    return 1 / (1 + np.exp(-x))\n",
    "\n",
    "def normalize(X):\n",
    "    return (X - np.mean(X, axis=0)) / np.std(X, axis=0)\n",
    "\n",
    "def softmax(logits):\n",
    "    exps = np.exp(logits)\n",
    "    return exps / np.sum(exps, axis=1, keepdims=True)\n",
    "\n",
    "def cross_entropy_loss(y_true, y_pred):\n",
    "    n_samples = y_true.shape[0]\n",
    "    return -np.sum(y_true * np.log(y_pred)) / n_samples\n"
   ]
  },
  {
   "cell_type": "code",
   "execution_count": 28,
   "id": "0c243a90",
   "metadata": {
    "ExecuteTime": {
     "end_time": "2023-03-31T11:53:08.091004Z",
     "start_time": "2023-03-31T11:53:08.075232Z"
    }
   },
   "outputs": [],
   "source": [
    "def softmax_regression(X, y, learning_rate=0.01, n_epochs=1000, tol=1e-5, early_stopping=True, validation_fraction=0.1):\n",
    "    n_rows, n_cols = X.shape\n",
    "    n_classes = len(np.unique(y))\n",
    "    \n",
    "    # Adicionar coluna de bias\n",
    "    X_b = np.c_[np.ones(n_rows), X]\n",
    "    \n",
    "    # Dividir o conjunto em treino e validação\n",
    "    if early_stopping:\n",
    "        validation_size = int(n_rows * validation_fraction)\n",
    "        train_size = n_rows - validation_size\n",
    "        X_train, X_val = X_b[:train_size], X_b[train_size:]\n",
    "        y_train, y_val = y[:train_size], y[train_size:]\n",
    "    else:\n",
    "        X_train, y_train = X_b, y\n",
    "    \n",
    "    # Inicializar os pesos\n",
    "    W = np.random.uniform(low=-1.0, high=1.0, size=n_classes).reshape(-1,1)\n",
    "    \n",
    "    # Treinar o modelo\n",
    "    best_loss = np.inf\n",
    "    no_improvement_count = 0\n",
    "    for epoch in range(n_epochs):\n",
    "        y_pred_train = softmax(X_train.dot(W))\n",
    "        \n",
    "        # Atualizar os pesos usando gradiente descendente em batch\n",
    "        gradients = 1 / X_train.shape[0] * X_train.T.dot(y_pred_train - y_train.reshape(-1,1))\n",
    "        W -= learning_rate * gradients\n",
    "        \n",
    "        if early_stopping:\n",
    "            logits_val = np.dot(X_val, W)\n",
    "            y_pred_val = softmax(logits_val)\n",
    "            loss_val = cross_entropy_loss(y_val, y_pred_val)\n",
    "            \n",
    "            if loss_val < best_loss - tol:\n",
    "                best_loss = loss_val\n",
    "                no_improvement_count = 0\n",
    "            else:\n",
    "                no_improvement_count += 1\n",
    "                \n",
    "            if no_improvement_count >= 5:\n",
    "                print(f\"Early stopping after epoch {epoch}\")\n",
    "                break\n",
    "                \n",
    "    return W\n"
   ]
  },
  {
   "cell_type": "code",
   "execution_count": 29,
   "id": "1ae0d35d",
   "metadata": {
    "ExecuteTime": {
     "end_time": "2023-03-31T11:53:12.336342Z",
     "start_time": "2023-03-31T11:53:12.330227Z"
    },
    "scrolled": true
   },
   "outputs": [
    {
     "name": "stdout",
     "output_type": "stream",
     "text": [
      "Early stopping after epoch 5\n"
     ]
    },
    {
     "data": {
      "text/plain": [
       "array([[ 0.12740829],\n",
       "       [-0.99497396]])"
      ]
     },
     "execution_count": 29,
     "metadata": {},
     "output_type": "execute_result"
    }
   ],
   "source": [
    "softmax_regression(X,y)"
   ]
  },
  {
   "cell_type": "code",
   "execution_count": 24,
   "id": "c192d37e",
   "metadata": {
    "ExecuteTime": {
     "end_time": "2023-03-31T11:52:46.673866Z",
     "start_time": "2023-03-31T11:52:46.668958Z"
    }
   },
   "outputs": [],
   "source": [
    "n_rows, n_cols = X.shape\n",
    "n_classes = len(np.unique(y))\n",
    "X_b = np.c_[np.ones(n_rows), X]\n",
    "W = np.random.uniform(low=-1.0, high=1.0, size=n_classes).reshape(-1,1)\n",
    "y_pred_train = softmax(X_b.dot(W))"
   ]
  },
  {
   "cell_type": "code",
   "execution_count": 25,
   "id": "2f831d84",
   "metadata": {
    "ExecuteTime": {
     "end_time": "2023-03-31T11:52:48.865662Z",
     "start_time": "2023-03-31T11:52:48.860037Z"
    }
   },
   "outputs": [
    {
     "data": {
      "text/plain": [
       "(150, 1)"
      ]
     },
     "execution_count": 25,
     "metadata": {},
     "output_type": "execute_result"
    }
   ],
   "source": [
    "y_pred_train.shape"
   ]
  },
  {
   "cell_type": "code",
   "execution_count": 22,
   "id": "223b9a13",
   "metadata": {
    "ExecuteTime": {
     "end_time": "2023-03-31T11:52:15.676153Z",
     "start_time": "2023-03-31T11:52:15.671696Z"
    }
   },
   "outputs": [
    {
     "data": {
      "text/plain": [
       "(2, 1)"
      ]
     },
     "execution_count": 22,
     "metadata": {},
     "output_type": "execute_result"
    }
   ],
   "source": [
    "W.shape"
   ]
  },
  {
   "cell_type": "code",
   "execution_count": null,
   "id": "db0705eb",
   "metadata": {},
   "outputs": [],
   "source": []
  },
  {
   "cell_type": "markdown",
   "id": "80ecd833",
   "metadata": {},
   "source": [
    "## Solução do livro: "
   ]
  },
  {
   "cell_type": "code",
   "execution_count": 35,
   "id": "2fcd8f4d",
   "metadata": {
    "ExecuteTime": {
     "end_time": "2023-03-31T11:56:58.087410Z",
     "start_time": "2023-03-31T11:56:58.084124Z"
    }
   },
   "outputs": [],
   "source": [
    "X = iris[\"data\"][:, (2, 3)]  # petal length, petal width\n",
    "y = iris[\"target\"]"
   ]
  },
  {
   "cell_type": "code",
   "execution_count": 31,
   "id": "711fcc98",
   "metadata": {
    "ExecuteTime": {
     "end_time": "2023-03-31T11:56:25.119123Z",
     "start_time": "2023-03-31T11:56:25.115142Z"
    }
   },
   "outputs": [],
   "source": [
    "# add the bias \n",
    "X_with_bias = np.c_[np.ones([len(X), 1]), X]\n",
    "np.random.seed(2042)"
   ]
  },
  {
   "cell_type": "code",
   "execution_count": null,
   "id": "6931ac67",
   "metadata": {},
   "outputs": [],
   "source": [
    "np.random.seed(2042)"
   ]
  },
  {
   "cell_type": "code",
   "execution_count": 38,
   "id": "063fc765",
   "metadata": {
    "ExecuteTime": {
     "end_time": "2023-03-31T11:58:58.731122Z",
     "start_time": "2023-03-31T11:58:58.725566Z"
    }
   },
   "outputs": [],
   "source": [
    "# Fazendo a separação dos dados em dados de treinamento, teste e validação sem usar o sklearn\n",
    "test_ratio = 0.2\n",
    "validation_ratio = 0.2\n",
    "total_size = len(X_with_bias)\n",
    "\n",
    "test_size = int(total_size * test_ratio)\n",
    "validation_size = int(total_size * validation_ratio)\n",
    "train_size = total_size - test_size - validation_size\n",
    "\n",
    "rnd_indices = np.random.permutation(total_size)\n",
    "\n",
    "X_train = X_with_bias[rnd_indices[:train_size]]\n",
    "y_train = y[rnd_indices[:train_size]]\n",
    "X_valid = X_with_bias[rnd_indices[train_size:-test_size]]\n",
    "y_valid = y[rnd_indices[train_size:-test_size]]\n",
    "X_test = X_with_bias[rnd_indices[-test_size:]]\n",
    "y_test = y[rnd_indices[-test_size:]]"
   ]
  },
  {
   "cell_type": "code",
   "execution_count": 43,
   "id": "46fbe107",
   "metadata": {
    "ExecuteTime": {
     "end_time": "2023-03-31T12:00:54.963503Z",
     "start_time": "2023-03-31T12:00:54.958509Z"
    }
   },
   "outputs": [
    {
     "data": {
      "text/plain": [
       "array([0, 1, 2])"
      ]
     },
     "execution_count": 43,
     "metadata": {},
     "output_type": "execute_result"
    }
   ],
   "source": [
    "np.unique(y_train)"
   ]
  },
  {
   "cell_type": "markdown",
   "id": "d66c78d2",
   "metadata": {},
   "source": [
    "A variável target possui 3 classes, 0, 1 e 2. Precisamos da classes em formato de probabilidade para treinar o softmax, isso requer que transformemos os dados das classes da variável target numa matrix de one-hot-encoder."
   ]
  },
  {
   "cell_type": "code",
   "execution_count": 57,
   "id": "d36daedf",
   "metadata": {
    "ExecuteTime": {
     "end_time": "2023-03-31T12:14:32.366690Z",
     "start_time": "2023-03-31T12:14:32.361874Z"
    }
   },
   "outputs": [],
   "source": [
    "# Função para transformar one-hot-encoding\n",
    "def to_one_hot(y):\n",
    "    n_classes = len(np.unique(y))\n",
    "    m = len(y)\n",
    "    Y_one_hot = np.zeros((m, n_classes))\n",
    "    Y_one_hot[np.arange(m), y] = 1\n",
    "    return Y_one_hot"
   ]
  },
  {
   "cell_type": "code",
   "execution_count": 52,
   "id": "2ce1b47f",
   "metadata": {
    "ExecuteTime": {
     "end_time": "2023-03-31T12:10:54.030049Z",
     "start_time": "2023-03-31T12:10:54.025333Z"
    }
   },
   "outputs": [
    {
     "data": {
      "text/plain": [
       "array([0, 0, 2, 1, 0, 2, 0, 0, 0, 2])"
      ]
     },
     "execution_count": 52,
     "metadata": {},
     "output_type": "execute_result"
    }
   ],
   "source": [
    "y_train[:10]"
   ]
  },
  {
   "cell_type": "code",
   "execution_count": 55,
   "id": "10cdbf86",
   "metadata": {
    "ExecuteTime": {
     "end_time": "2023-03-31T12:11:16.487475Z",
     "start_time": "2023-03-31T12:11:16.480093Z"
    }
   },
   "outputs": [
    {
     "data": {
      "text/plain": [
       "array([[1., 0., 0.],\n",
       "       [1., 0., 0.],\n",
       "       [0., 0., 1.],\n",
       "       [0., 1., 0.],\n",
       "       [1., 0., 0.],\n",
       "       [0., 0., 1.],\n",
       "       [1., 0., 0.],\n",
       "       [1., 0., 0.],\n",
       "       [1., 0., 0.],\n",
       "       [0., 0., 1.]])"
      ]
     },
     "execution_count": 55,
     "metadata": {},
     "output_type": "execute_result"
    }
   ],
   "source": [
    "to_one_hot(y_train[:10])"
   ]
  },
  {
   "cell_type": "code",
   "execution_count": 58,
   "id": "2afd0417",
   "metadata": {
    "ExecuteTime": {
     "end_time": "2023-03-31T12:15:57.103300Z",
     "start_time": "2023-03-31T12:15:57.098618Z"
    }
   },
   "outputs": [],
   "source": [
    "# Transformando os dados de treino, teste e validação para a variável alvo y \n",
    "Y_train_one_hot = to_one_hot(y_train)\n",
    "Y_valid_one_hot = to_one_hot(y_valid)\n",
    "Y_test_one_hot = to_one_hot(y_test)"
   ]
  },
  {
   "cell_type": "code",
   "execution_count": 59,
   "id": "b92755d0",
   "metadata": {
    "ExecuteTime": {
     "end_time": "2023-03-31T12:17:08.486172Z",
     "start_time": "2023-03-31T12:17:08.482969Z"
    }
   },
   "outputs": [],
   "source": [
    "# Implementando a função softmax\n",
    "def softmax(logits): \n",
    "    exps = np.exp(logits)\n",
    "    return exps / np.sum(exps, axis=1, keepdims=True)"
   ]
  },
  {
   "cell_type": "code",
   "execution_count": 60,
   "id": "ce99c6b2",
   "metadata": {
    "ExecuteTime": {
     "end_time": "2023-03-31T12:17:59.662891Z",
     "start_time": "2023-03-31T12:17:59.659074Z"
    }
   },
   "outputs": [],
   "source": [
    "n_inputs = X_train.shape[1] # == 3 (2 features plus the bias term)\n",
    "n_outputs = len(np.unique(y_train))   # == 3 (3 iris classes)"
   ]
  },
  {
   "cell_type": "code",
   "execution_count": 81,
   "id": "08f62f2f",
   "metadata": {
    "ExecuteTime": {
     "end_time": "2023-03-31T12:30:25.356805Z",
     "start_time": "2023-03-31T12:30:25.148712Z"
    }
   },
   "outputs": [
    {
     "name": "stdout",
     "output_type": "stream",
     "text": [
      "0 1.6607689507651262\n",
      "500 0.7278362755267094\n",
      "1000 0.6269051870031723\n",
      "1500 0.5600080337983081\n",
      "2000 0.5117065997303581\n",
      "2500 0.47475346124919987\n",
      "3000 0.445331818245912\n",
      "3500 0.4212218871072836\n",
      "4000 0.4010274049582099\n",
      "4500 0.38381579829431745\n"
     ]
    }
   ],
   "source": [
    "# Fazendo a implementação do treinamento\n",
    "eta = 0.01 # Taxa de aprendizado\n",
    "n_iterations = 5000 \n",
    "m = len(X_train)\n",
    "epsilon = 1e-7 # alvo para o valor do erro de validação\n",
    "\n",
    "Theta = np.random.randn(n_inputs, n_outputs) # Criando os coeficientes de inicialização\n",
    "\n",
    "for iteration in range(n_iterations):\n",
    "    Y_proba = softmax(X_train.dot(Theta))\n",
    "    if iteration % 500 == 0:\n",
    "        loss = -np.mean(np.sum(Y_train_one_hot*np.log(Y_proba+epsilon), axis=1)) # Função de custo\n",
    "        print(iteration, loss)\n",
    "    error = Y_proba - Y_train_one_hot\n",
    "    gradient = 1/m * X_train.T.dot(error)\n",
    "    Theta = Theta - eta*gradient\n",
    "    "
   ]
  },
  {
   "cell_type": "code",
   "execution_count": 82,
   "id": "b38794d9",
   "metadata": {
    "ExecuteTime": {
     "end_time": "2023-03-31T12:30:53.377739Z",
     "start_time": "2023-03-31T12:30:53.373542Z"
    }
   },
   "outputs": [
    {
     "data": {
      "text/plain": [
       "array([[ 3.4272322 , -0.501023  , -3.40222018],\n",
       "       [-0.76216731,  0.38726994,  0.60104997],\n",
       "       [-1.04990764,  0.07771718,  1.30418825]])"
      ]
     },
     "execution_count": 82,
     "metadata": {},
     "output_type": "execute_result"
    }
   ],
   "source": [
    "# O softmax foi treinado, olhemos os parametros Theta ( são os parametros do modelo)\n",
    "Theta"
   ]
  },
  {
   "cell_type": "code",
   "execution_count": 86,
   "id": "ddc4c3a4",
   "metadata": {
    "ExecuteTime": {
     "end_time": "2023-03-31T12:34:37.365477Z",
     "start_time": "2023-03-31T12:34:37.359266Z"
    }
   },
   "outputs": [
    {
     "data": {
      "text/plain": [
       "0.9666666666666667"
      ]
     },
     "execution_count": 86,
     "metadata": {},
     "output_type": "execute_result"
    }
   ],
   "source": [
    "# vamos fazer a previsão sobre os dados de validação e verificar a acurácia do modelo\n",
    "logits = X_valid.dot(Theta)\n",
    "Y_proba = softmax(logits)\n",
    "y_predict = np.argmax(Y_proba, axis=1)\n",
    "\n",
    "accuracy_score = np.mean(y_predict == y_valid)\n",
    "accuracy_score"
   ]
  },
  {
   "cell_type": "code",
   "execution_count": 85,
   "id": "7513fed3",
   "metadata": {
    "ExecuteTime": {
     "end_time": "2023-03-31T12:33:40.698600Z",
     "start_time": "2023-03-31T12:33:40.693669Z"
    }
   },
   "outputs": [
    {
     "data": {
      "text/plain": [
       "array([0, 0, 1, 0, 0, 0, 2, 1, 1, 0, 2, 2, 1, 1, 2, 2, 2, 2, 1, 2, 2, 0,\n",
       "       2, 1, 0, 0, 2, 0, 2, 2])"
      ]
     },
     "execution_count": 85,
     "metadata": {},
     "output_type": "execute_result"
    }
   ],
   "source": [
    "y_predict"
   ]
  },
  {
   "cell_type": "code",
   "execution_count": 92,
   "id": "5c2cad2a",
   "metadata": {
    "ExecuteTime": {
     "end_time": "2023-03-31T12:36:53.699985Z",
     "start_time": "2023-03-31T12:36:53.694756Z"
    }
   },
   "outputs": [
    {
     "data": {
      "text/plain": [
       "array([0.03895924, 0.51974296, 0.4412978 ])"
      ]
     },
     "execution_count": 92,
     "metadata": {},
     "output_type": "execute_result"
    }
   ],
   "source": [
    "Y_proba[2]"
   ]
  },
  {
   "cell_type": "code",
   "execution_count": 93,
   "id": "9aca9042",
   "metadata": {
    "ExecuteTime": {
     "end_time": "2023-03-31T12:37:00.371657Z",
     "start_time": "2023-03-31T12:37:00.366839Z"
    }
   },
   "outputs": [
    {
     "data": {
      "text/plain": [
       "1"
      ]
     },
     "execution_count": 93,
     "metadata": {},
     "output_type": "execute_result"
    }
   ],
   "source": [
    "y_predict[2]"
   ]
  },
  {
   "cell_type": "markdown",
   "id": "bb43c6d2",
   "metadata": {},
   "source": [
    "Conforme observado acima, uma vez treinado os parametros do modelo Theta ( os coeficientes) através do gradiente decedente nesse caso por batch. Fazemos a predição com os dados de validação. O resultado é uma matrix de probabilidade para cada classe dado o registro. A função argmax portanto pega o indice que representa a classe que tem a maior probabilidade e retorna, criando assim o y_predict com um array contendo a representação da classe efetiva através do link de seus respectivos indices. "
   ]
  },
  {
   "cell_type": "code",
   "execution_count": 96,
   "id": "a54dc252",
   "metadata": {
    "ExecuteTime": {
     "end_time": "2023-03-31T12:44:16.797814Z",
     "start_time": "2023-03-31T12:44:16.440615Z"
    }
   },
   "outputs": [
    {
     "name": "stdout",
     "output_type": "stream",
     "text": [
      "0 1.8978991686822577\n",
      "500 0.5322966032216172\n",
      "1000 0.510055213283792\n",
      "1500 0.5045594066258349\n",
      "2000 0.5031466284313443\n",
      "2389 0.5029622412622952\n",
      "2390 0.5029622429635099 early stopping!\n"
     ]
    }
   ],
   "source": [
    "# Agora vamos adicionar a regularização por early stopping. \n",
    "eta = 0.1 \n",
    "n_iterations = 5001\n",
    "m = len(X_train)\n",
    "epsilon = 1e-7\n",
    "alpha = 0.1  # regularization hyperparameter\n",
    "best_loss = np.infty\n",
    "\n",
    "Theta = np.random.randn(n_inputs, n_outputs)\n",
    "\n",
    "for iteration in range(n_iterations):\n",
    "    Y_proba = softmax(X_train.dot(Theta))\n",
    "    error = Y_proba - Y_train_one_hot\n",
    "    gradients = 1/m * X_train.T.dot(error) + np.r_[np.zeros([1, n_outputs]), alpha * Theta[1:]]\n",
    "    Theta = Theta - eta * gradients\n",
    "\n",
    "    logits = X_valid.dot(Theta)\n",
    "    Y_proba = softmax(logits)\n",
    "    xentropy_loss = -np.mean(np.sum(Y_valid_one_hot * np.log(Y_proba + epsilon), axis=1))\n",
    "    l2_loss = 1/2 * np.sum(np.square(Theta[1:]))\n",
    "    loss = xentropy_loss + alpha * l2_loss\n",
    "    if iteration % 500 == 0:\n",
    "        print(iteration, loss)\n",
    "    if loss < best_loss:\n",
    "        best_loss = loss\n",
    "    else:\n",
    "        print(iteration - 1, best_loss)\n",
    "        print(iteration, loss, \"early stopping!\")\n",
    "        break"
   ]
  },
  {
   "cell_type": "code",
   "execution_count": 97,
   "id": "d508c4c8",
   "metadata": {
    "ExecuteTime": {
     "end_time": "2023-03-31T12:44:35.608062Z",
     "start_time": "2023-03-31T12:44:35.600853Z"
    }
   },
   "outputs": [
    {
     "data": {
      "text/plain": [
       "1.0"
      ]
     },
     "execution_count": 97,
     "metadata": {},
     "output_type": "execute_result"
    }
   ],
   "source": [
    "logits = X_valid.dot(Theta)\n",
    "Y_proba = softmax(logits)\n",
    "y_predict = np.argmax(Y_proba, axis=1)\n",
    "\n",
    "accuracy_score = np.mean(y_predict == y_valid)\n",
    "accuracy_score"
   ]
  },
  {
   "cell_type": "code",
   "execution_count": 98,
   "id": "03675237",
   "metadata": {
    "ExecuteTime": {
     "end_time": "2023-03-31T12:45:12.031993Z",
     "start_time": "2023-03-31T12:45:11.593779Z"
    }
   },
   "outputs": [
    {
     "data": {
      "image/png": "[encoded data removed]",
      "text/plain": [
       "<Figure size 720x288 with 1 Axes>"
      ]
     },
     "metadata": {
      "needs_background": "light"
     },
     "output_type": "display_data"
    }
   ],
   "source": [
    "# Agora plotando o modelo de predição sobre os dados do dataset\n",
    "x0, x1 = np.meshgrid(\n",
    "        np.linspace(0, 8, 500).reshape(-1, 1),\n",
    "        np.linspace(0, 3.5, 200).reshape(-1, 1),\n",
    "    )\n",
    "X_new = np.c_[x0.ravel(), x1.ravel()]\n",
    "X_new_with_bias = np.c_[np.ones([len(X_new), 1]), X_new]\n",
    "\n",
    "logits = X_new_with_bias.dot(Theta)\n",
    "Y_proba = softmax(logits)\n",
    "y_predict = np.argmax(Y_proba, axis=1)\n",
    "\n",
    "zz1 = Y_proba[:, 1].reshape(x0.shape)\n",
    "zz = y_predict.reshape(x0.shape)\n",
    "\n",
    "plt.figure(figsize=(10, 4))\n",
    "plt.plot(X[y==2, 0], X[y==2, 1], \"g^\", label=\"Iris virginica\")\n",
    "plt.plot(X[y==1, 0], X[y==1, 1], \"bs\", label=\"Iris versicolor\")\n",
    "plt.plot(X[y==0, 0], X[y==0, 1], \"yo\", label=\"Iris setosa\")\n",
    "\n",
    "from matplotlib.colors import ListedColormap\n",
    "custom_cmap = ListedColormap(['#fafab0','#9898ff','#a0faa0'])\n",
    "\n",
    "plt.contourf(x0, x1, zz, cmap=custom_cmap)\n",
    "contour = plt.contour(x0, x1, zz1, cmap=plt.cm.brg)\n",
    "plt.clabel(contour, inline=1, fontsize=12)\n",
    "plt.xlabel(\"Petal length\", fontsize=14)\n",
    "plt.ylabel(\"Petal width\", fontsize=14)\n",
    "plt.legend(loc=\"upper left\", fontsize=14)\n",
    "plt.axis([0, 7, 0, 3.5])\n",
    "plt.show()"
   ]
  },
  {
   "cell_type": "code",
   "execution_count": 99,
   "id": "57090f96",
   "metadata": {
    "ExecuteTime": {
     "end_time": "2023-03-31T12:45:47.214963Z",
     "start_time": "2023-03-31T12:45:47.208174Z"
    }
   },
   "outputs": [
    {
     "data": {
      "text/plain": [
       "0.9666666666666667"
      ]
     },
     "execution_count": 99,
     "metadata": {},
     "output_type": "execute_result"
    }
   ],
   "source": [
    "# Fazendo a avaliação do modelo final sobre os dados de teste\n",
    "logits = X_test.dot(Theta)\n",
    "Y_proba = softmax(logits)\n",
    "y_predict = np.argmax(Y_proba, axis=1)\n",
    "\n",
    "accuracy_score = np.mean(y_predict == y_test)\n",
    "accuracy_score"
   ]
  },
  {
   "cell_type": "code",
   "execution_count": 102,
   "id": "76af584c",
   "metadata": {
    "ExecuteTime": {
     "end_time": "2023-03-31T12:47:17.756696Z",
     "start_time": "2023-03-31T12:47:17.753896Z"
    }
   },
   "outputs": [],
   "source": [
    "from sklearn.metrics import ConfusionMatrixDisplay, confusion_matrix"
   ]
  },
  {
   "cell_type": "code",
   "execution_count": 103,
   "id": "50462e63",
   "metadata": {
    "ExecuteTime": {
     "end_time": "2023-03-31T12:48:54.796201Z",
     "start_time": "2023-03-31T12:48:54.594728Z"
    }
   },
   "outputs": [
    {
     "data": {
      "text/plain": [
       "<sklearn.metrics._plot.confusion_matrix.ConfusionMatrixDisplay at 0x7fe9fa74c580>"
      ]
     },
     "execution_count": 103,
     "metadata": {},
     "output_type": "execute_result"
    },
    {
     "data": {
      "image/png": "[encoded data removed]",
      "text/plain": [
       "<Figure size 432x288 with 2 Axes>"
      ]
     },
     "metadata": {
      "needs_background": "light"
     },
     "output_type": "display_data"
    }
   ],
   "source": [
    "confusion_matrix = confusion_matrix(y_test, y_predict)\n",
    "disp = ConfusionMatrixDisplay(confusion_matrix=confusion_matrix)\n",
    "disp.plot()"
   ]
  },
  {
   "cell_type": "code",
   "execution_count": null,
   "id": "d0f66ca4",
   "metadata": {},
   "outputs": [],
   "source": []
  },
  {
   "cell_type": "code",
   "execution_count": null,
   "id": "8e1fb425",
   "metadata": {},
   "outputs": [],
   "source": []
  }
 ],
 "metadata": {
  "kernelspec": {
   "display_name": "Python 3 (ipykernel)",
   "language": "python",
   "name": "python3"
  },
  "language_info": {
   "codemirror_mode": {
    "name": "ipython",
    "version": 3
   },
   "file_extension": ".py",
   "mimetype": "text/x-python",
   "name": "python",
   "nbconvert_exporter": "python",
   "pygments_lexer": "ipython3",
   "version": "3.9.7"
  }
 },
 "nbformat": 4,
 "nbformat_minor": 5
}
